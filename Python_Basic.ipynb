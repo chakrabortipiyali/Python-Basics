{
  "nbformat": 4,
  "nbformat_minor": 0,
  "metadata": {
    "colab": {
      "provenance": []
    },
    "kernelspec": {
      "name": "python3",
      "display_name": "Python 3"
    },
    "language_info": {
      "name": "python"
    }
  },
  "cells": [
    {
      "cell_type": "code",
      "execution_count": null,
      "metadata": {
        "id": "uM6GNyNCRwuR"
      },
      "outputs": [],
      "source": []
    },
    {
      "cell_type": "markdown",
      "source": [
        "1. What is Python and why is it popular ?\n",
        "   -  Python is a programming language.\n",
        "      It is popular due to\n",
        "      i)ease of learning\n",
        "      ii) versatile use in different fields like automation , machine learning , data science\n",
        "      iii)readability\n",
        "      iv)availability of large number of libraries\n",
        "      v) huge active community who writes codes and publish in Python for others to use.\n",
        "2. What is an interpreter in Python?\n",
        "   - An interpreter is a program that reads and executes Python language line by line. It translates the code into machine readable bytecode and then executes this.\n",
        "3. What are pre-defined keywords in Python?\n",
        "   - Keywords are some special words which are used for some specific purpose . some predefined keywords used in Python are : if , elif, else, print , type ,for, while , not , or , and True , False , continue , break , none.\n",
        "4. Can keywords be used as variable names?\n",
        "   - No, keywords can not be used as variable names.\n",
        "5. What is mutability in Python?\n",
        "   - The property of editing the state or value of any object after creating once is called mutability in Python.\n",
        "7. What is the difference between “==” and “is” operators in Python ?\n",
        "   - “==” and “is” are two operators used in Python.\n",
        "     “==” is Comparison operator which compares two values and returns Boolean value.\n",
        "I    “is” is Identity operator which compares the memory location of two\n",
        "     objects.\n",
        "8. What are logical operators in Python ?\n",
        "   - Logical operators combine multiple conditions to evaluate them as a single Boolean Expression. and , or , not are logical operators used in Python.\n",
        "9. What is type casting in Python ?\n",
        "  - The process of changing the data type of a value or object is called type casting in Python.\n",
        "10. What is the difference between implicit and explicit type casting ?\n",
        "  - The difference between implicit and explicit type casting is in implicit type casting Python can automatically changes the data type without any intervention of user where in explicit type casting programmer manually converts one data type to another by calling the    \n",
        "  relevant function.\n",
        "11. What is the purpose of conditional statements in Python ?\n",
        "  - Conditional statements are used to code decisions based on some preconditions.\n",
        "12. How does the elif statement work ?\n",
        "  - elif is a conditional statement which is used to code decisions based on multiple Precondiotions.\n",
        "13. What is the difference between for and while loops\n",
        "   - “ for” loop iterate over a sequence of elements where a s”while” loop repeatedly executes a block until a condition is met.\n",
        "\n",
        "\n",
        "\n",
        "\n",
        "\n",
        "\n",
        "\n",
        "\n",
        "  \n",
        "\n"
      ],
      "metadata": {
        "id": "47TLLWDwALBE"
      }
    },
    {
      "cell_type": "code",
      "source": [
        "#1 .Write a Python program to print \"Hello, World!\"\n",
        "print(\"Hello, World !\")\n"
      ],
      "metadata": {
        "id": "RyN8Rki3jmkV"
      },
      "execution_count": null,
      "outputs": []
    },
    {
      "cell_type": "code",
      "source": [
        "#2. Write a Python program that displays your name and age\n",
        "print(\"My name is Piyali and my age is 50\")"
      ],
      "metadata": {
        "id": "WQ4Sr_yaoVU_"
      },
      "execution_count": null,
      "outputs": []
    },
    {
      "cell_type": "code",
      "source": [
        "#3. Write code to print all the pre-defined keywords in Python using the keyword library\n",
        "a = help('keywords')\n",
        "print(a)"
      ],
      "metadata": {
        "id": "7Be7Vm5DpBQo"
      },
      "execution_count": null,
      "outputs": []
    },
    {
      "cell_type": "code",
      "source": [
        "#4. Write a program that checks if a given word is a Python keyword\n",
        "import keyword\n",
        "print(keyword.iskeyword(\"if\"))\n"
      ],
      "metadata": {
        "id": "pr-CTzJdc_B1"
      },
      "execution_count": null,
      "outputs": []
    },
    {
      "cell_type": "code",
      "source": [
        "#5. Create a list and tuple in Python, and demonstrate how attempting to change an element works differently\n",
        "    for each\n",
        "    a = [2 , 4 + 5j , 5.6 , \"New\"] # This is a list which is mutable\n",
        "    a[1] = 5 + 4j\n",
        "    a\n",
        "    # this will return a list changing the second element as 5 + 4j\n",
        "    b = ( 2 , 4 + 5j , 5.6 , \"New\" ) # This a tuple which is immutable\n",
        "    b[1] = 5 + 4j\n",
        "    b\n",
        "    # this will retuen an unchanged list."
      ],
      "metadata": {
        "id": "3K-sjWdEfBDE"
      },
      "execution_count": null,
      "outputs": []
    },
    {
      "cell_type": "code",
      "source": [
        "#6. Write a function to demonstrate the behavior of mutable and immutable arguments"
      ],
      "metadata": {
        "id": "mHlpQ1ixgkti"
      },
      "execution_count": null,
      "outputs": []
    },
    {
      "cell_type": "code",
      "source": [
        "#7.  Write a function to demonstrate the behavior of mutable and immutable arguments0"
      ],
      "metadata": {
        "id": "wt9xk2h4mswD"
      },
      "execution_count": null,
      "outputs": []
    },
    {
      "cell_type": "code",
      "source": [
        "#8.  Write a program to demonstrate the use of logical operators\n",
        "     age = int(input(\"Enter your age\"))\n",
        "     marks = int(input(\"Enter your marks\"))\n",
        "     if (age == 18) & (marks>= 90): # '&' is the logical operator which returns True if both the conditions are true\n",
        "      print(\"You are eligible to apply\")\n",
        "     else :\n",
        "      print(\"Better luck next time\")"
      ],
      "metadata": {
        "id": "xGOd-Otsm0sP"
      },
      "execution_count": null,
      "outputs": []
    },
    {
      "cell_type": "code",
      "source": [
        "#9. Write a Python program to convert user input from string to integer, float, and boolean types\n",
        "    nummber = int(input(\"Enter a number\")) # converts the string input to integer\n",
        "    type(number)\n",
        "\n",
        ""
      ],
      "metadata": {
        "id": "JermkoUIojpD"
      },
      "execution_count": null,
      "outputs": []
    },
    {
      "cell_type": "code",
      "source": [
        "number2 = bool(input(\"Enter a number\")) # converts the string input to Boolean\n",
        "type(number2)"
      ],
      "metadata": {
        "id": "ZFJ6ChBTuyl8"
      },
      "execution_count": null,
      "outputs": []
    },
    {
      "cell_type": "code",
      "source": [
        "number1 = float(input(\"Enter a number\"))# converts the string input to float\n",
        "type(number1)"
      ],
      "metadata": {
        "id": "dN6DzpPQuicd"
      },
      "execution_count": null,
      "outputs": []
    },
    {
      "cell_type": "code",
      "source": [
        "#10. Write code to demonstrate type casting with list elements\n",
        "list = [2 , 4+5j , 4.5 , \"Kolkata\" ]\n",
        "list[3] = \"Delhi\"\n",
        "list"
      ],
      "metadata": {
        "id": "YLmDt6kEvFoD"
      },
      "execution_count": null,
      "outputs": []
    },
    {
      "cell_type": "code",
      "source": [
        "#11. Write a program that checks if a number is positive, negative, or zero\n",
        "num = int(input(\"Enter a number\"))\n",
        "if num > 0 :\n",
        "  print (\"Positive Number\")\n",
        "elif a < 0 :\n",
        "  print(\"Negative Number\")\n",
        "else :\n",
        "  print (\"The Number is zero\")\n",
        "\n"
      ],
      "metadata": {
        "id": "1r2ST9OZvmCz"
      },
      "execution_count": null,
      "outputs": []
    },
    {
      "cell_type": "code",
      "source": [
        "#12.  Write a for loop to print numbers from 1 to 100\n",
        "for num in range (1 , 11):\n",
        "  print(num)"
      ],
      "metadata": {
        "id": "Kkc59bKh0ckY"
      },
      "execution_count": null,
      "outputs": []
    },
    {
      "cell_type": "code",
      "source": [
        "#13.  Write a Python program to find the sum of all even numbers between 1 and 50\n",
        "sum = 0\n",
        "for num in range (0 , 50 , 2):\n",
        "  sum = sum + num\n",
        "print(\" The sum of the numbers is\",sum)"
      ],
      "metadata": {
        "id": "n3-Fnh4Q0utL"
      },
      "execution_count": null,
      "outputs": []
    },
    {
      "cell_type": "code",
      "source": [
        "#14. Write a program to reverse a string using a while loop\n",
        "word = \"pen\"\n",
        "reverse_word = \"\"\n",
        "i = len(word)\n",
        "while i > 0 :\n",
        "  reverse_word += word[ i - 1]\n",
        "  i = i - 1\n",
        "print(reverse_word)\n",
        "\n",
        "\n"
      ],
      "metadata": {
        "id": "eQ06dy53100g"
      },
      "execution_count": null,
      "outputs": []
    },
    {
      "cell_type": "code",
      "source": [
        "#15. Write a Python program to calculate the factorial of a number provided by the user using a while loop\n",
        "number = int(input(\"Enter a number : \"))\n",
        "j = number - 1\n",
        "fact = number * j\n",
        "while j > 1 :\n",
        "  fact = fact * (j - 1)\n",
        "  j = j - 1\n",
        "print(\"The Factorial of the number is : \", fact)"
      ],
      "metadata": {
        "id": "dCQTSQbs3Eu_"
      },
      "execution_count": null,
      "outputs": []
    }
  ]
}